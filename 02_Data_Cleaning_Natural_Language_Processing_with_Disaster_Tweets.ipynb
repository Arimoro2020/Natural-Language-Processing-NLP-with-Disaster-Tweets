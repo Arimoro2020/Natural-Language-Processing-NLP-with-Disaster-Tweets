{
  "nbformat": 4,
  "nbformat_minor": 0,
  "metadata": {
    "colab": {
      "name": "02_Data Cleaning_Natural Language Processing with Disaster Tweets.ipynb",
      "provenance": [],
      "collapsed_sections": [],
      "authorship_tag": "ABX9TyNP6QbeCZbOT98ks0O2aIn7",
      "include_colab_link": true
    },
    "kernelspec": {
      "name": "python3",
      "display_name": "Python 3"
    },
    "language_info": {
      "name": "python"
    }
  },
  "cells": [
    {
      "cell_type": "markdown",
      "metadata": {
        "id": "view-in-github",
        "colab_type": "text"
      },
      "source": [
        "<a href=\"https://colab.research.google.com/github/Arimoro2020/Natural-Language-Processing-NLP-with-Disaster-Tweets/blob/main/02_Data_Cleaning_Natural_Language_Processing_with_Disaster_Tweets.ipynb\" target=\"_parent\"><img src=\"https://colab.research.google.com/assets/colab-badge.svg\" alt=\"Open In Colab\"/></a>"
      ]
    },
    {
      "cell_type": "markdown",
      "metadata": {
        "id": "wXpdeZlbCwu4"
      },
      "source": [
        "**Mount Drive**"
      ]
    },
    {
      "cell_type": "code",
      "metadata": {
        "colab": {
          "base_uri": "https://localhost:8080/"
        },
        "id": "aMPWDOSo-Xis",
        "outputId": "efcffa73-5d0e-45f8-c88a-e19be5f08e98"
      },
      "source": [
        "from google.colab import drive\n",
        "drive.mount('/content/drive')"
      ],
      "execution_count": 1,
      "outputs": [
        {
          "output_type": "stream",
          "text": [
            "Mounted at /content/drive\n"
          ],
          "name": "stdout"
        }
      ]
    },
    {
      "cell_type": "markdown",
      "metadata": {
        "id": "_EDMX4VqCxcT"
      },
      "source": [
        "**Import Pandas & Numpy Libraries**"
      ]
    },
    {
      "cell_type": "code",
      "metadata": {
        "id": "fW_3tMj1-dKz"
      },
      "source": [
        "import pandas as pd\n",
        "import numpy as np"
      ],
      "execution_count": 2,
      "outputs": []
    },
    {
      "cell_type": "code",
      "metadata": {
        "id": "DxDB01z8LWM2"
      },
      "source": [
        "pd.set_option('display.max_colwidth', 70)"
      ],
      "execution_count": 3,
      "outputs": []
    },
    {
      "cell_type": "markdown",
      "metadata": {
        "id": "8ma9-QxACzSj"
      },
      "source": [
        "**Load Tweet Data**"
      ]
    },
    {
      "cell_type": "code",
      "metadata": {
        "colab": {
          "base_uri": "https://localhost:8080/",
          "height": 204
        },
        "id": "oouw2sTk-u96",
        "outputId": "1ecb9253-a6a3-423b-bf80-8cdb7e769997"
      },
      "source": [
        "train_tweets = pd.read_excel('/content/drive/MyDrive/PTDataScience/Project2/NLP/NLP2/feature.xlsx')\n",
        "train_tweets.head()"
      ],
      "execution_count": 4,
      "outputs": [
        {
          "output_type": "execute_result",
          "data": {
            "text/html": [
              "<div>\n",
              "<style scoped>\n",
              "    .dataframe tbody tr th:only-of-type {\n",
              "        vertical-align: middle;\n",
              "    }\n",
              "\n",
              "    .dataframe tbody tr th {\n",
              "        vertical-align: top;\n",
              "    }\n",
              "\n",
              "    .dataframe thead th {\n",
              "        text-align: right;\n",
              "    }\n",
              "</style>\n",
              "<table border=\"1\" class=\"dataframe\">\n",
              "  <thead>\n",
              "    <tr style=\"text-align: right;\">\n",
              "      <th></th>\n",
              "      <th>id</th>\n",
              "      <th>text</th>\n",
              "      <th>target</th>\n",
              "      <th>text_len</th>\n",
              "      <th>%punc</th>\n",
              "      <th>t_%punc</th>\n",
              "      <th>x_feature</th>\n",
              "    </tr>\n",
              "  </thead>\n",
              "  <tbody>\n",
              "    <tr>\n",
              "      <th>0</th>\n",
              "      <td>1</td>\n",
              "      <td>Our Deeds are the Reason of this #earthquake May ALLAH Forgive us all</td>\n",
              "      <td>1</td>\n",
              "      <td>57</td>\n",
              "      <td>1.8</td>\n",
              "      <td>1.124746</td>\n",
              "      <td>64.110528</td>\n",
              "    </tr>\n",
              "    <tr>\n",
              "      <th>1</th>\n",
              "      <td>4</td>\n",
              "      <td>Forest fire near La Ronge Sask. Canada</td>\n",
              "      <td>1</td>\n",
              "      <td>32</td>\n",
              "      <td>3.1</td>\n",
              "      <td>1.253927</td>\n",
              "      <td>40.125672</td>\n",
              "    </tr>\n",
              "    <tr>\n",
              "      <th>2</th>\n",
              "      <td>5</td>\n",
              "      <td>All residents asked to 'shelter in place' are being notified by of...</td>\n",
              "      <td>1</td>\n",
              "      <td>112</td>\n",
              "      <td>2.7</td>\n",
              "      <td>1.219755</td>\n",
              "      <td>136.612606</td>\n",
              "    </tr>\n",
              "    <tr>\n",
              "      <th>3</th>\n",
              "      <td>6</td>\n",
              "      <td>13,000 people receive #wildfires evacuation orders in California</td>\n",
              "      <td>1</td>\n",
              "      <td>57</td>\n",
              "      <td>3.5</td>\n",
              "      <td>1.284735</td>\n",
              "      <td>73.229904</td>\n",
              "    </tr>\n",
              "    <tr>\n",
              "      <th>4</th>\n",
              "      <td>7</td>\n",
              "      <td>Just got sent this photo from Ruby #Alaska as smoke from #wildfire...</td>\n",
              "      <td>1</td>\n",
              "      <td>72</td>\n",
              "      <td>2.8</td>\n",
              "      <td>1.228660</td>\n",
              "      <td>88.463497</td>\n",
              "    </tr>\n",
              "  </tbody>\n",
              "</table>\n",
              "</div>"
            ],
            "text/plain": [
              "   id  ...   x_feature\n",
              "0   1  ...   64.110528\n",
              "1   4  ...   40.125672\n",
              "2   5  ...  136.612606\n",
              "3   6  ...   73.229904\n",
              "4   7  ...   88.463497\n",
              "\n",
              "[5 rows x 7 columns]"
            ]
          },
          "metadata": {
            "tags": []
          },
          "execution_count": 4
        }
      ]
    },
    {
      "cell_type": "markdown",
      "metadata": {
        "id": "JNATQPgU_i4f"
      },
      "source": [
        "**Remove Punctuation**"
      ]
    },
    {
      "cell_type": "code",
      "metadata": {
        "id": "abfLm3EhAFNV"
      },
      "source": [
        "import string"
      ],
      "execution_count": 5,
      "outputs": []
    },
    {
      "cell_type": "code",
      "metadata": {
        "colab": {
          "base_uri": "https://localhost:8080/",
          "height": 35
        },
        "id": "vNE76-JjAGcu",
        "outputId": "9cb3579d-efe8-4143-acc3-88ef6fbe740b"
      },
      "source": [
        "string.punctuation"
      ],
      "execution_count": 6,
      "outputs": [
        {
          "output_type": "execute_result",
          "data": {
            "application/vnd.google.colaboratory.intrinsic+json": {
              "type": "string"
            },
            "text/plain": [
              "'!\"#$%&\\'()*+,-./:;<=>?@[\\\\]^_`{|}~'"
            ]
          },
          "metadata": {
            "tags": []
          },
          "execution_count": 6
        }
      ]
    },
    {
      "cell_type": "code",
      "metadata": {
        "id": "rpeeReAFJssz"
      },
      "source": [
        "def remove_punc(message):\n",
        "  txt_nopunc =''.join([txt for txt in message if txt not in string.punctuation])\n",
        "  return txt_nopunc"
      ],
      "execution_count": 7,
      "outputs": []
    },
    {
      "cell_type": "code",
      "metadata": {
        "colab": {
          "base_uri": "https://localhost:8080/",
          "height": 221
        },
        "id": "bclEgCTOKhMY",
        "outputId": "0072f057-c3d7-4020-b8fe-fb8e4addc5a7"
      },
      "source": [
        "train_tweets['text_clean'] = train_tweets['text'].apply(lambda x: remove_punc(x))\n",
        "train_tweets.head()"
      ],
      "execution_count": 8,
      "outputs": [
        {
          "output_type": "execute_result",
          "data": {
            "text/html": [
              "<div>\n",
              "<style scoped>\n",
              "    .dataframe tbody tr th:only-of-type {\n",
              "        vertical-align: middle;\n",
              "    }\n",
              "\n",
              "    .dataframe tbody tr th {\n",
              "        vertical-align: top;\n",
              "    }\n",
              "\n",
              "    .dataframe thead th {\n",
              "        text-align: right;\n",
              "    }\n",
              "</style>\n",
              "<table border=\"1\" class=\"dataframe\">\n",
              "  <thead>\n",
              "    <tr style=\"text-align: right;\">\n",
              "      <th></th>\n",
              "      <th>id</th>\n",
              "      <th>text</th>\n",
              "      <th>target</th>\n",
              "      <th>text_len</th>\n",
              "      <th>%punc</th>\n",
              "      <th>t_%punc</th>\n",
              "      <th>x_feature</th>\n",
              "      <th>text_clean</th>\n",
              "    </tr>\n",
              "  </thead>\n",
              "  <tbody>\n",
              "    <tr>\n",
              "      <th>0</th>\n",
              "      <td>1</td>\n",
              "      <td>Our Deeds are the Reason of this #earthquake May ALLAH Forgive us all</td>\n",
              "      <td>1</td>\n",
              "      <td>57</td>\n",
              "      <td>1.8</td>\n",
              "      <td>1.124746</td>\n",
              "      <td>64.110528</td>\n",
              "      <td>Our Deeds are the Reason of this earthquake May ALLAH Forgive us all</td>\n",
              "    </tr>\n",
              "    <tr>\n",
              "      <th>1</th>\n",
              "      <td>4</td>\n",
              "      <td>Forest fire near La Ronge Sask. Canada</td>\n",
              "      <td>1</td>\n",
              "      <td>32</td>\n",
              "      <td>3.1</td>\n",
              "      <td>1.253927</td>\n",
              "      <td>40.125672</td>\n",
              "      <td>Forest fire near La Ronge Sask Canada</td>\n",
              "    </tr>\n",
              "    <tr>\n",
              "      <th>2</th>\n",
              "      <td>5</td>\n",
              "      <td>All residents asked to 'shelter in place' are being notified by of...</td>\n",
              "      <td>1</td>\n",
              "      <td>112</td>\n",
              "      <td>2.7</td>\n",
              "      <td>1.219755</td>\n",
              "      <td>136.612606</td>\n",
              "      <td>All residents asked to shelter in place are being notified by offi...</td>\n",
              "    </tr>\n",
              "    <tr>\n",
              "      <th>3</th>\n",
              "      <td>6</td>\n",
              "      <td>13,000 people receive #wildfires evacuation orders in California</td>\n",
              "      <td>1</td>\n",
              "      <td>57</td>\n",
              "      <td>3.5</td>\n",
              "      <td>1.284735</td>\n",
              "      <td>73.229904</td>\n",
              "      <td>13000 people receive wildfires evacuation orders in California</td>\n",
              "    </tr>\n",
              "    <tr>\n",
              "      <th>4</th>\n",
              "      <td>7</td>\n",
              "      <td>Just got sent this photo from Ruby #Alaska as smoke from #wildfire...</td>\n",
              "      <td>1</td>\n",
              "      <td>72</td>\n",
              "      <td>2.8</td>\n",
              "      <td>1.228660</td>\n",
              "      <td>88.463497</td>\n",
              "      <td>Just got sent this photo from Ruby Alaska as smoke from wildfires ...</td>\n",
              "    </tr>\n",
              "  </tbody>\n",
              "</table>\n",
              "</div>"
            ],
            "text/plain": [
              "   id  ...                                                             text_clean\n",
              "0   1  ...   Our Deeds are the Reason of this earthquake May ALLAH Forgive us all\n",
              "1   4  ...                                  Forest fire near La Ronge Sask Canada\n",
              "2   5  ...  All residents asked to shelter in place are being notified by offi...\n",
              "3   6  ...        13000 people receive wildfires evacuation orders in California \n",
              "4   7  ...  Just got sent this photo from Ruby Alaska as smoke from wildfires ...\n",
              "\n",
              "[5 rows x 8 columns]"
            ]
          },
          "metadata": {
            "tags": []
          },
          "execution_count": 8
        }
      ]
    },
    {
      "cell_type": "markdown",
      "metadata": {
        "id": "0sfcDPqO_nXE"
      },
      "source": [
        "**Tokenization**"
      ]
    },
    {
      "cell_type": "code",
      "metadata": {
        "id": "JsCe5my_AHLi"
      },
      "source": [
        "import re"
      ],
      "execution_count": 9,
      "outputs": []
    },
    {
      "cell_type": "code",
      "metadata": {
        "id": "bYpyaT2aAHZK"
      },
      "source": [
        "def tokenize(message):\n",
        "  token = re.split('\\W+', message)\n",
        "  return token"
      ],
      "execution_count": 10,
      "outputs": []
    },
    {
      "cell_type": "code",
      "metadata": {
        "colab": {
          "base_uri": "https://localhost:8080/",
          "height": 289
        },
        "id": "35rnU_vkOpUh",
        "outputId": "4520535f-6aa3-42b5-8643-b2384990035c"
      },
      "source": [
        "train_tweets['txt_tokenized'] = train_tweets['text_clean'].apply(lambda x: tokenize(x.lower()))\n",
        "train_tweets.head()"
      ],
      "execution_count": 11,
      "outputs": [
        {
          "output_type": "execute_result",
          "data": {
            "text/html": [
              "<div>\n",
              "<style scoped>\n",
              "    .dataframe tbody tr th:only-of-type {\n",
              "        vertical-align: middle;\n",
              "    }\n",
              "\n",
              "    .dataframe tbody tr th {\n",
              "        vertical-align: top;\n",
              "    }\n",
              "\n",
              "    .dataframe thead th {\n",
              "        text-align: right;\n",
              "    }\n",
              "</style>\n",
              "<table border=\"1\" class=\"dataframe\">\n",
              "  <thead>\n",
              "    <tr style=\"text-align: right;\">\n",
              "      <th></th>\n",
              "      <th>id</th>\n",
              "      <th>text</th>\n",
              "      <th>target</th>\n",
              "      <th>text_len</th>\n",
              "      <th>%punc</th>\n",
              "      <th>t_%punc</th>\n",
              "      <th>x_feature</th>\n",
              "      <th>text_clean</th>\n",
              "      <th>txt_tokenized</th>\n",
              "    </tr>\n",
              "  </thead>\n",
              "  <tbody>\n",
              "    <tr>\n",
              "      <th>0</th>\n",
              "      <td>1</td>\n",
              "      <td>Our Deeds are the Reason of this #earthquake May ALLAH Forgive us all</td>\n",
              "      <td>1</td>\n",
              "      <td>57</td>\n",
              "      <td>1.8</td>\n",
              "      <td>1.124746</td>\n",
              "      <td>64.110528</td>\n",
              "      <td>Our Deeds are the Reason of this earthquake May ALLAH Forgive us all</td>\n",
              "      <td>[our, deeds, are, the, reason, of, this, earthquake, may, allah, f...</td>\n",
              "    </tr>\n",
              "    <tr>\n",
              "      <th>1</th>\n",
              "      <td>4</td>\n",
              "      <td>Forest fire near La Ronge Sask. Canada</td>\n",
              "      <td>1</td>\n",
              "      <td>32</td>\n",
              "      <td>3.1</td>\n",
              "      <td>1.253927</td>\n",
              "      <td>40.125672</td>\n",
              "      <td>Forest fire near La Ronge Sask Canada</td>\n",
              "      <td>[forest, fire, near, la, ronge, sask, canada]</td>\n",
              "    </tr>\n",
              "    <tr>\n",
              "      <th>2</th>\n",
              "      <td>5</td>\n",
              "      <td>All residents asked to 'shelter in place' are being notified by of...</td>\n",
              "      <td>1</td>\n",
              "      <td>112</td>\n",
              "      <td>2.7</td>\n",
              "      <td>1.219755</td>\n",
              "      <td>136.612606</td>\n",
              "      <td>All residents asked to shelter in place are being notified by offi...</td>\n",
              "      <td>[all, residents, asked, to, shelter, in, place, are, being, notifi...</td>\n",
              "    </tr>\n",
              "    <tr>\n",
              "      <th>3</th>\n",
              "      <td>6</td>\n",
              "      <td>13,000 people receive #wildfires evacuation orders in California</td>\n",
              "      <td>1</td>\n",
              "      <td>57</td>\n",
              "      <td>3.5</td>\n",
              "      <td>1.284735</td>\n",
              "      <td>73.229904</td>\n",
              "      <td>13000 people receive wildfires evacuation orders in California</td>\n",
              "      <td>[13000, people, receive, wildfires, evacuation, orders, in, califo...</td>\n",
              "    </tr>\n",
              "    <tr>\n",
              "      <th>4</th>\n",
              "      <td>7</td>\n",
              "      <td>Just got sent this photo from Ruby #Alaska as smoke from #wildfire...</td>\n",
              "      <td>1</td>\n",
              "      <td>72</td>\n",
              "      <td>2.8</td>\n",
              "      <td>1.228660</td>\n",
              "      <td>88.463497</td>\n",
              "      <td>Just got sent this photo from Ruby Alaska as smoke from wildfires ...</td>\n",
              "      <td>[just, got, sent, this, photo, from, ruby, alaska, as, smoke, from...</td>\n",
              "    </tr>\n",
              "  </tbody>\n",
              "</table>\n",
              "</div>"
            ],
            "text/plain": [
              "   id  ...                                                          txt_tokenized\n",
              "0   1  ...  [our, deeds, are, the, reason, of, this, earthquake, may, allah, f...\n",
              "1   4  ...                          [forest, fire, near, la, ronge, sask, canada]\n",
              "2   5  ...  [all, residents, asked, to, shelter, in, place, are, being, notifi...\n",
              "3   6  ...  [13000, people, receive, wildfires, evacuation, orders, in, califo...\n",
              "4   7  ...  [just, got, sent, this, photo, from, ruby, alaska, as, smoke, from...\n",
              "\n",
              "[5 rows x 9 columns]"
            ]
          },
          "metadata": {
            "tags": []
          },
          "execution_count": 11
        }
      ]
    },
    {
      "cell_type": "markdown",
      "metadata": {
        "id": "HJwgup53_xJG"
      },
      "source": [
        "**Remove Stopwords**"
      ]
    },
    {
      "cell_type": "code",
      "metadata": {
        "colab": {
          "base_uri": "https://localhost:8080/"
        },
        "id": "9SYzqdkJAIER",
        "outputId": "e4e9426d-86ec-4da4-b19d-bd3aa05fe1ce"
      },
      "source": [
        "import nltk\n",
        "nltk.download('stopwords')"
      ],
      "execution_count": 12,
      "outputs": [
        {
          "output_type": "stream",
          "text": [
            "[nltk_data] Downloading package stopwords to /root/nltk_data...\n",
            "[nltk_data]   Unzipping corpora/stopwords.zip.\n"
          ],
          "name": "stdout"
        },
        {
          "output_type": "execute_result",
          "data": {
            "text/plain": [
              "True"
            ]
          },
          "metadata": {
            "tags": []
          },
          "execution_count": 12
        }
      ]
    },
    {
      "cell_type": "code",
      "metadata": {
        "id": "2gFLX72bAIUl"
      },
      "source": [
        "stopword = nltk.corpus.stopwords.words('english')"
      ],
      "execution_count": 13,
      "outputs": []
    },
    {
      "cell_type": "code",
      "metadata": {
        "colab": {
          "base_uri": "https://localhost:8080/"
        },
        "id": "Col60H4mRr4o",
        "outputId": "a7434c5b-d17f-422e-de67-dd770428dc7c"
      },
      "source": [
        "stopword[0:10]"
      ],
      "execution_count": 14,
      "outputs": [
        {
          "output_type": "execute_result",
          "data": {
            "text/plain": [
              "['i', 'me', 'my', 'myself', 'we', 'our', 'ours', 'ourselves', 'you', \"you're\"]"
            ]
          },
          "metadata": {
            "tags": []
          },
          "execution_count": 14
        }
      ]
    },
    {
      "cell_type": "code",
      "metadata": {
        "id": "BNmIZ6zBQGIn"
      },
      "source": [
        "def no_stpwords(token_list):\n",
        "  mssg = [word for word in token_list if word not in stopword]\n",
        "  return mssg"
      ],
      "execution_count": 15,
      "outputs": []
    },
    {
      "cell_type": "code",
      "metadata": {
        "colab": {
          "base_uri": "https://localhost:8080/",
          "height": 357
        },
        "id": "cs1V_TBmQnFK",
        "outputId": "65e493c4-fb84-443f-d640-ed2dd6edbf1e"
      },
      "source": [
        "train_tweets['txt_nostop'] = train_tweets['txt_tokenized'].apply(lambda x: no_stpwords(x))\n",
        "train_tweets.head()"
      ],
      "execution_count": 16,
      "outputs": [
        {
          "output_type": "execute_result",
          "data": {
            "text/html": [
              "<div>\n",
              "<style scoped>\n",
              "    .dataframe tbody tr th:only-of-type {\n",
              "        vertical-align: middle;\n",
              "    }\n",
              "\n",
              "    .dataframe tbody tr th {\n",
              "        vertical-align: top;\n",
              "    }\n",
              "\n",
              "    .dataframe thead th {\n",
              "        text-align: right;\n",
              "    }\n",
              "</style>\n",
              "<table border=\"1\" class=\"dataframe\">\n",
              "  <thead>\n",
              "    <tr style=\"text-align: right;\">\n",
              "      <th></th>\n",
              "      <th>id</th>\n",
              "      <th>text</th>\n",
              "      <th>target</th>\n",
              "      <th>text_len</th>\n",
              "      <th>%punc</th>\n",
              "      <th>t_%punc</th>\n",
              "      <th>x_feature</th>\n",
              "      <th>text_clean</th>\n",
              "      <th>txt_tokenized</th>\n",
              "      <th>txt_nostop</th>\n",
              "    </tr>\n",
              "  </thead>\n",
              "  <tbody>\n",
              "    <tr>\n",
              "      <th>0</th>\n",
              "      <td>1</td>\n",
              "      <td>Our Deeds are the Reason of this #earthquake May ALLAH Forgive us all</td>\n",
              "      <td>1</td>\n",
              "      <td>57</td>\n",
              "      <td>1.8</td>\n",
              "      <td>1.124746</td>\n",
              "      <td>64.110528</td>\n",
              "      <td>Our Deeds are the Reason of this earthquake May ALLAH Forgive us all</td>\n",
              "      <td>[our, deeds, are, the, reason, of, this, earthquake, may, allah, f...</td>\n",
              "      <td>[deeds, reason, earthquake, may, allah, forgive, us]</td>\n",
              "    </tr>\n",
              "    <tr>\n",
              "      <th>1</th>\n",
              "      <td>4</td>\n",
              "      <td>Forest fire near La Ronge Sask. Canada</td>\n",
              "      <td>1</td>\n",
              "      <td>32</td>\n",
              "      <td>3.1</td>\n",
              "      <td>1.253927</td>\n",
              "      <td>40.125672</td>\n",
              "      <td>Forest fire near La Ronge Sask Canada</td>\n",
              "      <td>[forest, fire, near, la, ronge, sask, canada]</td>\n",
              "      <td>[forest, fire, near, la, ronge, sask, canada]</td>\n",
              "    </tr>\n",
              "    <tr>\n",
              "      <th>2</th>\n",
              "      <td>5</td>\n",
              "      <td>All residents asked to 'shelter in place' are being notified by of...</td>\n",
              "      <td>1</td>\n",
              "      <td>112</td>\n",
              "      <td>2.7</td>\n",
              "      <td>1.219755</td>\n",
              "      <td>136.612606</td>\n",
              "      <td>All residents asked to shelter in place are being notified by offi...</td>\n",
              "      <td>[all, residents, asked, to, shelter, in, place, are, being, notifi...</td>\n",
              "      <td>[residents, asked, shelter, place, notified, officers, evacuation,...</td>\n",
              "    </tr>\n",
              "    <tr>\n",
              "      <th>3</th>\n",
              "      <td>6</td>\n",
              "      <td>13,000 people receive #wildfires evacuation orders in California</td>\n",
              "      <td>1</td>\n",
              "      <td>57</td>\n",
              "      <td>3.5</td>\n",
              "      <td>1.284735</td>\n",
              "      <td>73.229904</td>\n",
              "      <td>13000 people receive wildfires evacuation orders in California</td>\n",
              "      <td>[13000, people, receive, wildfires, evacuation, orders, in, califo...</td>\n",
              "      <td>[13000, people, receive, wildfires, evacuation, orders, california, ]</td>\n",
              "    </tr>\n",
              "    <tr>\n",
              "      <th>4</th>\n",
              "      <td>7</td>\n",
              "      <td>Just got sent this photo from Ruby #Alaska as smoke from #wildfire...</td>\n",
              "      <td>1</td>\n",
              "      <td>72</td>\n",
              "      <td>2.8</td>\n",
              "      <td>1.228660</td>\n",
              "      <td>88.463497</td>\n",
              "      <td>Just got sent this photo from Ruby Alaska as smoke from wildfires ...</td>\n",
              "      <td>[just, got, sent, this, photo, from, ruby, alaska, as, smoke, from...</td>\n",
              "      <td>[got, sent, photo, ruby, alaska, smoke, wildfires, pours, school, ]</td>\n",
              "    </tr>\n",
              "  </tbody>\n",
              "</table>\n",
              "</div>"
            ],
            "text/plain": [
              "   id  ...                                                             txt_nostop\n",
              "0   1  ...                   [deeds, reason, earthquake, may, allah, forgive, us]\n",
              "1   4  ...                          [forest, fire, near, la, ronge, sask, canada]\n",
              "2   5  ...  [residents, asked, shelter, place, notified, officers, evacuation,...\n",
              "3   6  ...  [13000, people, receive, wildfires, evacuation, orders, california, ]\n",
              "4   7  ...    [got, sent, photo, ruby, alaska, smoke, wildfires, pours, school, ]\n",
              "\n",
              "[5 rows x 10 columns]"
            ]
          },
          "metadata": {
            "tags": []
          },
          "execution_count": 16
        }
      ]
    },
    {
      "cell_type": "markdown",
      "metadata": {
        "id": "-g24nDDq_0sQ"
      },
      "source": [
        "**Lemmatization**"
      ]
    },
    {
      "cell_type": "code",
      "metadata": {
        "colab": {
          "base_uri": "https://localhost:8080/"
        },
        "id": "XaLUq12jVNhq",
        "outputId": "446b4e05-e5c6-4458-c3ce-72a44fdff47b"
      },
      "source": [
        "nltk.download('wordnet')"
      ],
      "execution_count": 17,
      "outputs": [
        {
          "output_type": "stream",
          "text": [
            "[nltk_data] Downloading package wordnet to /root/nltk_data...\n",
            "[nltk_data]   Unzipping corpora/wordnet.zip.\n"
          ],
          "name": "stdout"
        },
        {
          "output_type": "execute_result",
          "data": {
            "text/plain": [
              "True"
            ]
          },
          "metadata": {
            "tags": []
          },
          "execution_count": 17
        }
      ]
    },
    {
      "cell_type": "code",
      "metadata": {
        "id": "D7EduT1-AJP1"
      },
      "source": [
        "word_net = nltk.WordNetLemmatizer()"
      ],
      "execution_count": 18,
      "outputs": []
    },
    {
      "cell_type": "code",
      "metadata": {
        "id": "nluBLIMLAJam"
      },
      "source": [
        "def lemmatization(tokenized_list):\n",
        "  msg = [word_net.lemmatize(word) for word in tokenized_list]\n",
        "  return msg"
      ],
      "execution_count": 19,
      "outputs": []
    },
    {
      "cell_type": "code",
      "metadata": {
        "colab": {
          "base_uri": "https://localhost:8080/",
          "height": 750
        },
        "id": "_xOoVn8BUtqM",
        "outputId": "ed1009f6-795d-4933-ff0c-0e44103587f0"
      },
      "source": [
        "train_tweets['txt_lemmatized'] = train_tweets['txt_nostop'].apply(lambda x: lemmatization(x))\n",
        "train_tweets.head(10)"
      ],
      "execution_count": 20,
      "outputs": [
        {
          "output_type": "execute_result",
          "data": {
            "text/html": [
              "<div>\n",
              "<style scoped>\n",
              "    .dataframe tbody tr th:only-of-type {\n",
              "        vertical-align: middle;\n",
              "    }\n",
              "\n",
              "    .dataframe tbody tr th {\n",
              "        vertical-align: top;\n",
              "    }\n",
              "\n",
              "    .dataframe thead th {\n",
              "        text-align: right;\n",
              "    }\n",
              "</style>\n",
              "<table border=\"1\" class=\"dataframe\">\n",
              "  <thead>\n",
              "    <tr style=\"text-align: right;\">\n",
              "      <th></th>\n",
              "      <th>id</th>\n",
              "      <th>text</th>\n",
              "      <th>target</th>\n",
              "      <th>text_len</th>\n",
              "      <th>%punc</th>\n",
              "      <th>t_%punc</th>\n",
              "      <th>x_feature</th>\n",
              "      <th>text_clean</th>\n",
              "      <th>txt_tokenized</th>\n",
              "      <th>txt_nostop</th>\n",
              "      <th>txt_lemmatized</th>\n",
              "    </tr>\n",
              "  </thead>\n",
              "  <tbody>\n",
              "    <tr>\n",
              "      <th>0</th>\n",
              "      <td>1</td>\n",
              "      <td>Our Deeds are the Reason of this #earthquake May ALLAH Forgive us all</td>\n",
              "      <td>1</td>\n",
              "      <td>57</td>\n",
              "      <td>1.8</td>\n",
              "      <td>1.124746</td>\n",
              "      <td>64.110528</td>\n",
              "      <td>Our Deeds are the Reason of this earthquake May ALLAH Forgive us all</td>\n",
              "      <td>[our, deeds, are, the, reason, of, this, earthquake, may, allah, f...</td>\n",
              "      <td>[deeds, reason, earthquake, may, allah, forgive, us]</td>\n",
              "      <td>[deed, reason, earthquake, may, allah, forgive, u]</td>\n",
              "    </tr>\n",
              "    <tr>\n",
              "      <th>1</th>\n",
              "      <td>4</td>\n",
              "      <td>Forest fire near La Ronge Sask. Canada</td>\n",
              "      <td>1</td>\n",
              "      <td>32</td>\n",
              "      <td>3.1</td>\n",
              "      <td>1.253927</td>\n",
              "      <td>40.125672</td>\n",
              "      <td>Forest fire near La Ronge Sask Canada</td>\n",
              "      <td>[forest, fire, near, la, ronge, sask, canada]</td>\n",
              "      <td>[forest, fire, near, la, ronge, sask, canada]</td>\n",
              "      <td>[forest, fire, near, la, ronge, sask, canada]</td>\n",
              "    </tr>\n",
              "    <tr>\n",
              "      <th>2</th>\n",
              "      <td>5</td>\n",
              "      <td>All residents asked to 'shelter in place' are being notified by of...</td>\n",
              "      <td>1</td>\n",
              "      <td>112</td>\n",
              "      <td>2.7</td>\n",
              "      <td>1.219755</td>\n",
              "      <td>136.612606</td>\n",
              "      <td>All residents asked to shelter in place are being notified by offi...</td>\n",
              "      <td>[all, residents, asked, to, shelter, in, place, are, being, notifi...</td>\n",
              "      <td>[residents, asked, shelter, place, notified, officers, evacuation,...</td>\n",
              "      <td>[resident, asked, shelter, place, notified, officer, evacuation, s...</td>\n",
              "    </tr>\n",
              "    <tr>\n",
              "      <th>3</th>\n",
              "      <td>6</td>\n",
              "      <td>13,000 people receive #wildfires evacuation orders in California</td>\n",
              "      <td>1</td>\n",
              "      <td>57</td>\n",
              "      <td>3.5</td>\n",
              "      <td>1.284735</td>\n",
              "      <td>73.229904</td>\n",
              "      <td>13000 people receive wildfires evacuation orders in California</td>\n",
              "      <td>[13000, people, receive, wildfires, evacuation, orders, in, califo...</td>\n",
              "      <td>[13000, people, receive, wildfires, evacuation, orders, california, ]</td>\n",
              "      <td>[13000, people, receive, wildfire, evacuation, order, california, ]</td>\n",
              "    </tr>\n",
              "    <tr>\n",
              "      <th>4</th>\n",
              "      <td>7</td>\n",
              "      <td>Just got sent this photo from Ruby #Alaska as smoke from #wildfire...</td>\n",
              "      <td>1</td>\n",
              "      <td>72</td>\n",
              "      <td>2.8</td>\n",
              "      <td>1.228660</td>\n",
              "      <td>88.463497</td>\n",
              "      <td>Just got sent this photo from Ruby Alaska as smoke from wildfires ...</td>\n",
              "      <td>[just, got, sent, this, photo, from, ruby, alaska, as, smoke, from...</td>\n",
              "      <td>[got, sent, photo, ruby, alaska, smoke, wildfires, pours, school, ]</td>\n",
              "      <td>[got, sent, photo, ruby, alaska, smoke, wildfire, pours, school, ]</td>\n",
              "    </tr>\n",
              "    <tr>\n",
              "      <th>5</th>\n",
              "      <td>8</td>\n",
              "      <td>#RockyFire Update =&gt; California Hwy. 20 closed in both directions ...</td>\n",
              "      <td>1</td>\n",
              "      <td>93</td>\n",
              "      <td>7.5</td>\n",
              "      <td>1.496278</td>\n",
              "      <td>139.153842</td>\n",
              "      <td>RockyFire Update  California Hwy 20 closed in both directions due ...</td>\n",
              "      <td>[rockyfire, update, california, hwy, 20, closed, in, both, directi...</td>\n",
              "      <td>[rockyfire, update, california, hwy, 20, closed, directions, due, ...</td>\n",
              "      <td>[rockyfire, update, california, hwy, 20, closed, direction, due, l...</td>\n",
              "    </tr>\n",
              "    <tr>\n",
              "      <th>6</th>\n",
              "      <td>10</td>\n",
              "      <td>#flood #disaster Heavy rain causes flash flooding of streets in Ma...</td>\n",
              "      <td>1</td>\n",
              "      <td>82</td>\n",
              "      <td>3.7</td>\n",
              "      <td>1.299093</td>\n",
              "      <td>106.525651</td>\n",
              "      <td>flood disaster Heavy rain causes flash flooding of streets in Mani...</td>\n",
              "      <td>[flood, disaster, heavy, rain, causes, flash, flooding, of, street...</td>\n",
              "      <td>[flood, disaster, heavy, rain, causes, flash, flooding, streets, m...</td>\n",
              "      <td>[flood, disaster, heavy, rain, cause, flash, flooding, street, man...</td>\n",
              "    </tr>\n",
              "    <tr>\n",
              "      <th>7</th>\n",
              "      <td>13</td>\n",
              "      <td>I'm on top of the hill and I can see a fire in the woods...</td>\n",
              "      <td>1</td>\n",
              "      <td>45</td>\n",
              "      <td>8.9</td>\n",
              "      <td>1.548382</td>\n",
              "      <td>69.677172</td>\n",
              "      <td>Im on top of the hill and I can see a fire in the woods</td>\n",
              "      <td>[im, on, top, of, the, hill, and, i, can, see, a, fire, in, the, w...</td>\n",
              "      <td>[im, top, hill, see, fire, woods]</td>\n",
              "      <td>[im, top, hill, see, fire, wood]</td>\n",
              "    </tr>\n",
              "    <tr>\n",
              "      <th>8</th>\n",
              "      <td>14</td>\n",
              "      <td>There's an emergency evacuation happening now in the building acro...</td>\n",
              "      <td>1</td>\n",
              "      <td>68</td>\n",
              "      <td>1.5</td>\n",
              "      <td>1.084472</td>\n",
              "      <td>73.744080</td>\n",
              "      <td>Theres an emergency evacuation happening now in the building acros...</td>\n",
              "      <td>[theres, an, emergency, evacuation, happening, now, in, the, build...</td>\n",
              "      <td>[theres, emergency, evacuation, happening, building, across, street]</td>\n",
              "      <td>[there, emergency, evacuation, happening, building, across, street]</td>\n",
              "    </tr>\n",
              "    <tr>\n",
              "      <th>9</th>\n",
              "      <td>15</td>\n",
              "      <td>I'm afraid that the tornado is coming to our area...</td>\n",
              "      <td>1</td>\n",
              "      <td>43</td>\n",
              "      <td>9.3</td>\n",
              "      <td>1.562056</td>\n",
              "      <td>67.168407</td>\n",
              "      <td>Im afraid that the tornado is coming to our area</td>\n",
              "      <td>[im, afraid, that, the, tornado, is, coming, to, our, area]</td>\n",
              "      <td>[im, afraid, tornado, coming, area]</td>\n",
              "      <td>[im, afraid, tornado, coming, area]</td>\n",
              "    </tr>\n",
              "  </tbody>\n",
              "</table>\n",
              "</div>"
            ],
            "text/plain": [
              "   id  ...                                                         txt_lemmatized\n",
              "0   1  ...                     [deed, reason, earthquake, may, allah, forgive, u]\n",
              "1   4  ...                          [forest, fire, near, la, ronge, sask, canada]\n",
              "2   5  ...  [resident, asked, shelter, place, notified, officer, evacuation, s...\n",
              "3   6  ...    [13000, people, receive, wildfire, evacuation, order, california, ]\n",
              "4   7  ...     [got, sent, photo, ruby, alaska, smoke, wildfire, pours, school, ]\n",
              "5   8  ...  [rockyfire, update, california, hwy, 20, closed, direction, due, l...\n",
              "6  10  ...  [flood, disaster, heavy, rain, cause, flash, flooding, street, man...\n",
              "7  13  ...                                       [im, top, hill, see, fire, wood]\n",
              "8  14  ...    [there, emergency, evacuation, happening, building, across, street]\n",
              "9  15  ...                                    [im, afraid, tornado, coming, area]\n",
              "\n",
              "[10 rows x 11 columns]"
            ]
          },
          "metadata": {
            "tags": []
          },
          "execution_count": 20
        }
      ]
    },
    {
      "cell_type": "markdown",
      "metadata": {
        "id": "rdpEUC9_WwkW"
      },
      "source": [
        "**Save DataFrame with Feature Engineering in Excel for Use in Vectorization and ML in Diffrent Collab**"
      ]
    },
    {
      "cell_type": "code",
      "metadata": {
        "id": "AWevWjYLWvy8"
      },
      "source": [
        "train_tweets.to_excel('/content/drive/MyDrive/PTDataScience/Project2/NLP/NLP2/lemmatized.xlsx', index=False)"
      ],
      "execution_count": 21,
      "outputs": []
    }
  ]
}